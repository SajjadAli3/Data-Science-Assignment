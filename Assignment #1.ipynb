{
 "cells": [
  {
   "cell_type": "code",
   "execution_count": 1,
   "id": "6b68fc1a",
   "metadata": {},
   "outputs": [
    {
     "name": "stdout",
     "output_type": "stream",
     "text": [
      "Twinkle, Twinkle, little star, \n",
      "\tHow I wonder What you are! \n",
      "\t\tup above the world so high, \n",
      "\t\tLike a diamond in the sky\n",
      "Twinkle, Twinkle, little star, \n",
      "\tHow I wonder What you are\n"
     ]
    }
   ],
   "source": [
    "poem = '''Twinkle, Twinkle, little star, \n",
    "\\tHow I wonder What you are! \n",
    "\\t\\tup above the world so high, \n",
    "\\t\\tLike a diamond in the sky\n",
    "Twinkle, Twinkle, little star, \n",
    "\\tHow I wonder What you are'''\n",
    "print(poem)"
   ]
  },
  {
   "cell_type": "code",
   "execution_count": 2,
   "id": "27149561",
   "metadata": {},
   "outputs": [
    {
     "name": "stdout",
     "output_type": "stream",
     "text": [
      "3.8.8 (default, Apr 13 2021, 15:08:03) [MSC v.1916 64 bit (AMD64)]\n"
     ]
    }
   ],
   "source": [
    "#print the vrsion of python\n",
    "import sys\n",
    "print(sys.version) "
   ]
  },
  {
   "cell_type": "code",
   "execution_count": 3,
   "id": "91a8d03d",
   "metadata": {},
   "outputs": [
    {
     "name": "stdout",
     "output_type": "stream",
     "text": [
      "Today's date: Jan-01-2022 10:34:29\n"
     ]
    }
   ],
   "source": [
    "# current Date $ Time\n",
    "from datetime import datetime\n",
    "today = datetime.now()\n",
    "today=today.strftime(\"%b-%d-%Y %H:%M:%S\")\n",
    "print(\"Today's date:\", today)"
   ]
  },
  {
   "cell_type": "code",
   "execution_count": 4,
   "id": "2e8cf582",
   "metadata": {},
   "outputs": [
    {
     "name": "stdout",
     "output_type": "stream",
     "text": [
      "Enter the radius of a circle:3.44\n",
      "Area of a circle = 37.16\n"
     ]
    }
   ],
   "source": [
    "# Area of circle\n",
    "PI = 3.14\n",
    "radius = float(input(\"Enter the radius of a circle:\"))\n",
    "area = PI*radius*radius \n",
    "print(\"Area of a circle = %.2f\" %area)"
   ]
  },
  {
   "cell_type": "code",
   "execution_count": 5,
   "id": "5a601a13",
   "metadata": {},
   "outputs": [
    {
     "name": "stdout",
     "output_type": "stream",
     "text": [
      "Enter Your First Name: sajjad\n",
      "Enter Your Last Name: ali\n",
      "i l a d a j j a s "
     ]
    }
   ],
   "source": [
    "# Reverse Name with Space Between\n",
    "First=input('Enter Your First Name: ')\n",
    "Last=input('Enter Your Last Name: ')\n",
    "Reverse = Last[::-1]+First[::-1]\n",
    "for space in Reverse:\n",
    "    print(space,end=' ')"
   ]
  },
  {
   "cell_type": "code",
   "execution_count": 6,
   "id": "c8cb862b",
   "metadata": {},
   "outputs": [
    {
     "name": "stdout",
     "output_type": "stream",
     "text": [
      "Enter First Number: 3\n",
      "Enter Second Number: 4\n",
      "7\n"
     ]
    }
   ],
   "source": [
    "# Adition Number\n",
    "num1=int(input('Enter First Number: '))\n",
    "num2=int(input('Enter Second Number: '))\n",
    "add = num1+num2\n",
    "print(add)"
   ]
  },
  {
   "cell_type": "code",
   "execution_count": null,
   "id": "c78a9302",
   "metadata": {},
   "outputs": [],
   "source": []
  }
 ],
 "metadata": {
  "kernelspec": {
   "display_name": "Python 3",
   "language": "python",
   "name": "python3"
  },
  "language_info": {
   "codemirror_mode": {
    "name": "ipython",
    "version": 3
   },
   "file_extension": ".py",
   "mimetype": "text/x-python",
   "name": "python",
   "nbconvert_exporter": "python",
   "pygments_lexer": "ipython3",
   "version": "3.8.8"
  }
 },
 "nbformat": 4,
 "nbformat_minor": 5
}
